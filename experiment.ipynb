{
 "cells": [
  {
   "cell_type": "code",
   "execution_count": 2,
   "id": "c59f7ae5-11ba-4ebc-a224-84c50a2a62d5",
   "metadata": {},
   "outputs": [],
   "source": [
    "import torch\n",
    "\n",
    "from torch.nn import Module\n",
    "from torchtext.data import Field, LabelField, NestedField, Dataset, BucketIterator"
   ]
  },
  {
   "cell_type": "code",
   "execution_count": 5,
   "id": "df03e3cf-9ae0-4dc4-8b4b-2d73743f2cd8",
   "metadata": {},
   "outputs": [],
   "source": [
    "import pandas as pd"
   ]
  },
  {
   "cell_type": "code",
   "execution_count": 6,
   "id": "f5566a70-3c30-45de-8225-9beb9ff1a390",
   "metadata": {},
   "outputs": [],
   "source": [
    "# exp_data = {\"text\": [\"đây là text thử nghiệm\", \"đây là text thử nghiệm lần 2\"], \"label\": [0, 1]}\n",
    "# df = pd.DataFrame(exp_data)\n",
    "# df.to_csv(\"experiment.csv\", header=None, index=False)"
   ]
  },
  {
   "cell_type": "code",
   "execution_count": 12,
   "id": "d1e133e3-fea9-4b83-ab40-2f795f2fc550",
   "metadata": {},
   "outputs": [
    {
     "name": "stderr",
     "output_type": "stream",
     "text": [
      "/home/giangvl/topcv/Spell Checker/hybrid-transformer/venv/lib/python3.8/site-packages/torchtext/data/field.py:150: UserWarning: Field class will be retired soon and moved to torchtext.legacy. Please see the most recent release notes for further information.\n",
      "  warnings.warn('{} class will be retired soon and moved to torchtext.legacy. Please see the most recent release notes for further information.'.format(self.__class__.__name__), UserWarning)\n",
      "/home/giangvl/topcv/Spell Checker/hybrid-transformer/venv/lib/python3.8/site-packages/torchtext/data/field.py:498: UserWarning: NestedField class will be retired soon and moved to torchtext.legacy. Please see the most recent release notes for further information.\n",
      "  warnings.warn('{} class will be retired soon and moved to torchtext.legacy. Please see the most recent release notes for further information.'.format(self.__class__.__name__), UserWarning)\n",
      "/home/giangvl/topcv/Spell Checker/hybrid-transformer/venv/lib/python3.8/site-packages/torchtext/data/field.py:150: UserWarning: NestedField class will be retired soon and moved to torchtext.legacy. Please see the most recent release notes for further information.\n",
      "  warnings.warn('{} class will be retired soon and moved to torchtext.legacy. Please see the most recent release notes for further information.'.format(self.__class__.__name__), UserWarning)\n",
      "/home/giangvl/topcv/Spell Checker/hybrid-transformer/venv/lib/python3.8/site-packages/torchtext/data/field.py:150: UserWarning: LabelField class will be retired soon and moved to torchtext.legacy. Please see the most recent release notes for further information.\n",
      "  warnings.warn('{} class will be retired soon and moved to torchtext.legacy. Please see the most recent release notes for further information.'.format(self.__class__.__name__), UserWarning)\n"
     ]
    }
   ],
   "source": [
    "input_word = Field(init_token=\"<bos>\", eos_token=\"<eos>\", batch_first=True)\n",
    "input_char_nesting = Field(tokenize=list, init_token=\"<bow>\", eos_token=\"<eow>\", batch_first=True)\n",
    "input_char = NestedField(input_char_nesting, init_token=\"<bos>\", eos_token=\"<eos>\")\n",
    "labels = LabelField(sequential=False)"
   ]
  },
  {
   "cell_type": "code",
   "execution_count": 13,
   "id": "f7683eab-e84e-44fa-8ee3-9e6a30484ddb",
   "metadata": {},
   "outputs": [],
   "source": [
    "fields = ([(('input_word', 'input_char'), (input_word, input_char)), ('labels', labels)])"
   ]
  },
  {
   "cell_type": "code",
   "execution_count": 14,
   "id": "d2fb24ce-ad90-4163-aedf-99ded3dc3563",
   "metadata": {},
   "outputs": [],
   "source": [
    "from torchtext.data import TabularDataset"
   ]
  },
  {
   "cell_type": "code",
   "execution_count": 15,
   "id": "78ab0a82-a49d-4718-bdaa-87c4709b8aea",
   "metadata": {},
   "outputs": [
    {
     "name": "stderr",
     "output_type": "stream",
     "text": [
      "/home/giangvl/topcv/Spell Checker/hybrid-transformer/venv/lib/python3.8/site-packages/torchtext/data/example.py:68: UserWarning: Example class will be retired soon and moved to torchtext.legacy. Please see the most recent release notes for further information.\n",
      "  warnings.warn('Example class will be retired soon and moved to torchtext.legacy. Please see the most recent release notes for further information.', UserWarning)\n",
      "/home/giangvl/topcv/Spell Checker/hybrid-transformer/venv/lib/python3.8/site-packages/torchtext/data/example.py:78: UserWarning: Example class will be retired soon and moved to torchtext.legacy. Please see the most recent release notes for further information.\n",
      "  warnings.warn('Example class will be retired soon and moved to torchtext.legacy. Please see the most recent release notes for further information.', UserWarning)\n"
     ]
    }
   ],
   "source": [
    "dataset = TabularDataset(path=\"experiment.csv\", format=\"CSV\", fields=fields)"
   ]
  },
  {
   "cell_type": "code",
   "execution_count": 29,
   "id": "f4c42ba0-85c8-4670-9db7-147d077a9cda",
   "metadata": {},
   "outputs": [],
   "source": [
    "labels.build_vocab(dataset, max_size=2, min_freq=1)"
   ]
  },
  {
   "cell_type": "code",
   "execution_count": 28,
   "id": "94d935a5-c4da-4f5b-9b08-cd91001d7c21",
   "metadata": {},
   "outputs": [
    {
     "data": {
      "text/plain": [
       "'0'"
      ]
     },
     "execution_count": 28,
     "metadata": {},
     "output_type": "execute_result"
    }
   ],
   "source": [
    "dataset.examples[0].labels"
   ]
  },
  {
   "cell_type": "code",
   "execution_count": 21,
   "id": "f13f8c3a-8579-40fd-8304-7607e69d74e2",
   "metadata": {},
   "outputs": [],
   "source": [
    "from torchtext.data import Iterator"
   ]
  },
  {
   "cell_type": "code",
   "execution_count": 22,
   "id": "998b3043-8daa-4d97-bcc5-bb373f16a4c1",
   "metadata": {},
   "outputs": [
    {
     "data": {
      "text/plain": [
       "dict_keys(['input_word', 'input_char', 'labels'])"
      ]
     },
     "execution_count": 22,
     "metadata": {},
     "output_type": "execute_result"
    }
   ],
   "source": [
    "dataset[0].__dict__.keys()"
   ]
  },
  {
   "cell_type": "code",
   "execution_count": 23,
   "id": "7c71f46b-bc76-4ad6-81e0-2dc5a3491beb",
   "metadata": {},
   "outputs": [],
   "source": [
    "input_char.build_vocab(dataset, max_size=10, min_freq=1)"
   ]
  },
  {
   "cell_type": "code",
   "execution_count": 24,
   "id": "01e1b0e7-b202-4d75-a2ab-d20b672a81a3",
   "metadata": {},
   "outputs": [],
   "source": [
    "input_word.build_vocab(dataset, max_size=10, min_freq=1)"
   ]
  },
  {
   "cell_type": "code",
   "execution_count": 25,
   "id": "3e20c1c5-da31-49af-b039-384a60309716",
   "metadata": {},
   "outputs": [
    {
     "data": {
      "text/plain": [
       "[['đ', 'â', 'y'],\n",
       " ['l', 'à'],\n",
       " ['t', 'e', 'x', 't'],\n",
       " ['t', 'h', 'ử'],\n",
       " ['n', 'g', 'h', 'i', 'ệ', 'm']]"
      ]
     },
     "execution_count": 25,
     "metadata": {},
     "output_type": "execute_result"
    }
   ],
   "source": [
    "dataset.examples[0].input_char"
   ]
  },
  {
   "cell_type": "code",
   "execution_count": 30,
   "id": "393520b0-fd2a-47d0-8f75-6e10f76b41c5",
   "metadata": {},
   "outputs": [
    {
     "name": "stderr",
     "output_type": "stream",
     "text": [
      "/home/giangvl/topcv/Spell Checker/hybrid-transformer/venv/lib/python3.8/site-packages/torchtext/data/iterator.py:48: UserWarning: Iterator class will be retired soon and moved to torchtext.legacy. Please see the most recent release notes for further information.\n",
      "  warnings.warn('{} class will be retired soon and moved to torchtext.legacy. Please see the most recent release notes for further information.'.format(self.__class__.__name__), UserWarning)\n"
     ]
    }
   ],
   "source": [
    "data_iterator = Iterator(dataset, batch_size=2)"
   ]
  },
  {
   "cell_type": "code",
   "execution_count": 37,
   "id": "953eb6f9-993a-45ed-9d7a-e0271f2d0d96",
   "metadata": {},
   "outputs": [
    {
     "name": "stdout",
     "output_type": "stream",
     "text": [
      "tensor([[ 4,  2,  5,  1,  1,  1,  1,  1,  4,  0,  0, 15,  5,  1,  1,  1,  4,  8,\n",
      "          0,  5,  1,  1,  1,  1,  4,  6, 10, 14,  6,  5,  1,  1,  4,  6,  7,  0,\n",
      "          5,  1,  1,  1,  4,  9, 11,  7, 12,  0, 13,  5,  4,  8,  0,  9,  5,  1,\n",
      "          1,  1,  4,  0,  5,  1,  1,  1,  1,  1,  4,  3,  5,  1,  1,  1,  1,  1],\n",
      "        [ 4,  2,  5,  1,  1,  1,  1,  1,  4,  0,  0, 15,  5,  1,  1,  1,  4,  8,\n",
      "          0,  5,  1,  1,  1,  1,  4,  6, 10, 14,  6,  5,  1,  1,  4,  6,  7,  0,\n",
      "          5,  1,  1,  1,  4,  9, 11,  7, 12,  0, 13,  5,  4,  3,  5,  1,  1,  1,\n",
      "          1,  1,  1,  1,  1,  1,  1,  1,  1,  1,  1,  1,  1,  1,  1,  1,  1,  1]])\n"
     ]
    }
   ],
   "source": [
    "for item in data_iterator:\n",
    "    print(item.input_char.view(2, 72))"
   ]
  },
  {
   "cell_type": "code",
   "execution_count": 32,
   "id": "0c6a3e55-f80f-484a-8f18-ad97726c15a0",
   "metadata": {},
   "outputs": [],
   "source": [
    "from transformers import AlbertConfig, AlbertModel"
   ]
  },
  {
   "cell_type": "code",
   "execution_count": 33,
   "id": "c8e50633-1f6f-40df-8983-d5ed0ae83ae8",
   "metadata": {},
   "outputs": [],
   "source": [
    "albertconfig = AlbertConfig()"
   ]
  },
  {
   "cell_type": "code",
   "execution_count": 34,
   "id": "1bcbf02b-4387-424f-a855-f82592df599f",
   "metadata": {},
   "outputs": [],
   "source": [
    "model = AlbertModel(albertconfig)"
   ]
  },
  {
   "cell_type": "code",
   "execution_count": 39,
   "id": "b8f37dfe-840e-4b31-865f-c13ce0e4a54d",
   "metadata": {},
   "outputs": [
    {
     "name": "stdout",
     "output_type": "stream",
     "text": [
      "BaseModelOutputWithPooling(last_hidden_state=tensor([[[ 0.1412,  0.4174, -0.5939,  ..., -1.9761,  1.0480,  0.1583],\n",
      "         [ 0.1416,  0.4182, -0.5938,  ..., -1.9740,  1.0482,  0.1587],\n",
      "         [ 0.1410,  0.4183, -0.5929,  ..., -1.9744,  1.0484,  0.1576],\n",
      "         ...,\n",
      "         [ 0.1422,  0.4177, -0.5928,  ..., -1.9753,  1.0478,  0.1581],\n",
      "         [ 0.1417,  0.4177, -0.5931,  ..., -1.9752,  1.0475,  0.1587],\n",
      "         [ 0.1414,  0.4182, -0.5935,  ..., -1.9759,  1.0478,  0.1577]],\n",
      "\n",
      "        [[ 0.0711,  0.4130, -0.6131,  ..., -2.0495,  1.0349,  0.2711],\n",
      "         [ 0.0715,  0.4138, -0.6130,  ..., -2.0473,  1.0353,  0.2712],\n",
      "         [ 0.0709,  0.4141, -0.6121,  ..., -2.0476,  1.0356,  0.2702],\n",
      "         ...,\n",
      "         [ 0.0720,  0.4135, -0.6121,  ..., -2.0485,  1.0347,  0.2708],\n",
      "         [ 0.0715,  0.4135, -0.6124,  ..., -2.0483,  1.0345,  0.2712],\n",
      "         [ 0.0713,  0.4140, -0.6129,  ..., -2.0490,  1.0347,  0.2705]]],\n",
      "       grad_fn=<NativeLayerNormBackward>), pooler_output=tensor([[-0.7299, -0.0089, -0.4283,  ..., -0.2123,  0.9880,  0.2103],\n",
      "        [-0.7245, -0.0391, -0.4698,  ..., -0.1243,  0.9881,  0.1528]],\n",
      "       grad_fn=<TanhBackward>), hidden_states=None, attentions=None)\n"
     ]
    }
   ],
   "source": [
    "for item in data_iterator:\n",
    "    a = model(item.input_char.view(2, 72))\n",
    "    print(a)"
   ]
  },
  {
   "cell_type": "code",
   "execution_count": 42,
   "id": "5c32ce43-27c4-4863-b0f9-10dbe7f79ce3",
   "metadata": {},
   "outputs": [],
   "source": [
    "b = a.last_hidden_state.view(2, 9, 8, 4096)"
   ]
  },
  {
   "cell_type": "code",
   "execution_count": 46,
   "id": "953ccde6-0473-4741-abcd-0975d2d3a427",
   "metadata": {},
   "outputs": [
    {
     "data": {
      "text/plain": [
       "torch.Size([2, 8, 4096])"
      ]
     },
     "execution_count": 46,
     "metadata": {},
     "output_type": "execute_result"
    }
   ],
   "source": [
    "b.mean(dim=1).shape"
   ]
  },
  {
   "cell_type": "code",
   "execution_count": null,
   "id": "68845b7f-653d-426d-9ed4-ade1a1251f51",
   "metadata": {},
   "outputs": [],
   "source": []
  }
 ],
 "metadata": {
  "kernelspec": {
   "display_name": "Python 3 (ipykernel)",
   "language": "python",
   "name": "python3"
  },
  "language_info": {
   "codemirror_mode": {
    "name": "ipython",
    "version": 3
   },
   "file_extension": ".py",
   "mimetype": "text/x-python",
   "name": "python",
   "nbconvert_exporter": "python",
   "pygments_lexer": "ipython3",
   "version": "3.8.13"
  }
 },
 "nbformat": 4,
 "nbformat_minor": 5
}
